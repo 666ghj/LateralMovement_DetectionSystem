{
 "cells": [
  {
   "cell_type": "markdown",
   "metadata": {},
   "source": [
    "虚拟机集群配置"
   ]
  },
  {
   "cell_type": "code",
   "execution_count": null,
   "metadata": {},
   "outputs": [],
   "source": [
    "# Vagrantfile for virtual machine cluster configuration\n",
    "Vagrantfile = \"\"\"\n",
    "Vagrant.configure(\"2\") do |config|\n",
    "  config.vm.define \"client1\" do |client1|\n",
    "    client1.vm.box = \"ubuntu/bionic64\"\n",
    "    client1.vm.network \"private_network\", ip: \"192.168.50.4\"\n",
    "  end\n",
    "  config.vm.define \"client2\" do |client2|\n",
    "    client2.vm.box = \"ubuntu/bionic64\"\n",
    "    client2.vm.network \"private_network\", ip: \"192.168.50.5\"\n",
    "  end\n",
    "  config.vm.define \"server\" do |server|\n",
    "    server.vm.box = \"ubuntu/bionic64\"\n",
    "    server.vm.network \"private_network\", ip: \"192.168.50.6\"\n",
    "  end\n",
    "end\n",
    "\"\"\"\n",
    "\n",
    "with open(\"Vagrantfile\", \"w\") as f:\n",
    "    f.write(Vagrantfile)\n",
    "\n",
    "import subprocess\n",
    "import time\n",
    "\n",
    "# Start and configure the virtual machines\n",
    "subprocess.run([\"vagrant\", \"up\"])\n",
    "\n",
    "# Install sysmon on all VMs\n",
    "def configure_vm(vm_name):\n",
    "    subprocess.run([\"vagrant\", \"ssh\", vm_name, \"-c\", \"sudo apt-get update && sudo apt-get install -y sysmon\"])\n",
    "\n",
    "configure_vm(\"client1\")\n",
    "configure_vm(\"client2\")\n",
    "configure_vm(\"server\")\n"
   ]
  },
  {
   "cell_type": "markdown",
   "metadata": {},
   "source": [
    "日志收集与导出"
   ]
  },
  {
   "cell_type": "code",
   "execution_count": null,
   "metadata": {},
   "outputs": [],
   "source": [
    "import os\n",
    "\n",
    "# Directory to store logs\n",
    "log_dir = \"/vagrant/logs\"\n",
    "os.makedirs(log_dir, exist_ok=True)\n",
    "\n",
    "# Collect and export logs from VMs\n",
    "def collect_logs(vm_name):\n",
    "    log_path = f\"{log_dir}/{vm_name}_sysmon.csv\"\n",
    "    export_cmd = f\"Get-WinEvent -FilterHashTable @{{LogName='Microsoft-Windows-Sysmon/Operational'}} | Export-Csv -Path {log_path} -NoTypeInformation\"\n",
    "    subprocess.run([\"vagrant\", \"ssh\", vm_name, \"-c\", export_cmd])\n",
    "    return log_path\n",
    "\n",
    "client1_log = collect_logs(\"client1\")\n",
    "client2_log = collect_logs(\"client2\")\n",
    "server_log = collect_logs(\"server\")\n",
    "\n",
    "# Transfer logs to remote storage\n",
    "remote_host = \"user@remote_host:/path/to/store/logs/\"\n",
    "subprocess.run([\"scp\", client1_log, remote_host])\n",
    "subprocess.run([\"scp\", client2_log, remote_host])\n",
    "subprocess.run([\"scp\", server_log, remote_host])\n"
   ]
  },
  {
   "cell_type": "markdown",
   "metadata": {},
   "source": [
    "日志解析与存储"
   ]
  },
  {
   "cell_type": "code",
   "execution_count": null,
   "metadata": {},
   "outputs": [],
   "source": [
    "# Log parsing script using logparser (assuming logparser is installed and configured)\n",
    "def parse_logs(log_file):\n",
    "    parsed_log_file = log_file.replace(\".evtx\", \".csv\")\n",
    "    parse_cmd = f\"logparser -i:EVT -o:CSV \\\"SELECT * INTO {parsed_log_file} FROM {log_file}\\\"\"\n",
    "    subprocess.run(parse_cmd, shell=True)\n",
    "    return parsed_log_file\n",
    "\n",
    "client1_parsed_log = parse_logs(client1_log)\n",
    "client2_parsed_log = parse_logs(client2_log)\n",
    "server_parsed_log = parse_logs(server_log)\n",
    "\n",
    "# Store parsed logs to a database (Elasticsearch example)\n",
    "from elasticsearch import Elasticsearch, helpers\n",
    "\n",
    "es = Elasticsearch([{'host': 'localhost', 'port': 9200}])\n",
    "\n",
    "def store_logs_to_elasticsearch(log_file):\n",
    "    with open(log_file, 'r') as f:\n",
    "        reader = csv.DictReader(f)\n",
    "        helpers.bulk(es, reader, index=\"logs\", doc_type=\"_doc\")\n",
    "\n",
    "store_logs_to_elasticsearch(client1_parsed_log)\n",
    "store_logs_to_elasticsearch(client2_parsed_log)\n",
    "store_logs_to_elasticsearch(server_parsed_log)\n"
   ]
  },
  {
   "cell_type": "markdown",
   "metadata": {},
   "source": [
    "数据分析与处理"
   ]
  },
  {
   "cell_type": "code",
   "execution_count": null,
   "metadata": {},
   "outputs": [],
   "source": [
    "# Data analysis using a graph neural network (Jbeil model as an example)\n",
    "from jbeil import JbeilModel  # assuming JbeilModel is a placeholder for the actual implementation\n",
    "\n",
    "# Load data from Elasticsearch\n",
    "def load_data_from_elasticsearch(index):\n",
    "    res = es.search(index=index, body={\"query\": {\"match_all\": {}}}, size=10000)\n",
    "    return [hit[\"_source\"] for hit in res[\"hits\"][\"hits\"]]\n",
    "\n",
    "logs_data = load_data_from_elasticsearch(\"logs\")\n",
    "\n",
    "# Prepare data for Jbeil model\n",
    "def prepare_data_for_jbeil(logs):\n",
    "    # Data preparation logic (e.g., feature extraction, graph construction)\n",
    "    pass\n",
    "\n",
    "graph_data = prepare_data_for_jbeil(logs_data)\n",
    "\n",
    "# Train and evaluate Jbeil model\n",
    "jbeil_model = JbeilModel()\n",
    "jbeil_model.train(graph_data)\n",
    "results = jbeil_model.evaluate(graph_data)\n",
    "\n",
    "print(\"Model evaluation results:\", results)\n"
   ]
  }
 ],
 "metadata": {
  "language_info": {
   "name": "python"
  }
 },
 "nbformat": 4,
 "nbformat_minor": 2
}
